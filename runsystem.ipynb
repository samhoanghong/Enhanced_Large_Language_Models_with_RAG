{
 "cells": [
  {
   "cell_type": "code",
   "execution_count": 3,
   "metadata": {},
   "outputs": [],
   "source": [
    "import pandas as pd\n",
    "import numpy as np\n",
    "import os\n",
    "\n",
    "import json\n",
    "import re"
   ]
  },
  {
   "cell_type": "code",
   "execution_count": 1,
   "metadata": {},
   "outputs": [],
   "source": [
    "# The embeddings and the dataframe created and saved in Part 1\n",
    "\n",
    "PATH_TO_EMBEDS = 'compressed_array.npz'\n",
    "PATH_TO_DF = 'compressed_dataframe.csv.gz'"
   ]
  },
  {
   "cell_type": "code",
   "execution_count": null,
   "metadata": {},
   "outputs": [],
   "source": [
    "def run_faiss_search(query_text, top_k):\n",
    "    \n",
    "    # Run FAISS exhaustive search\n",
    "    \n",
    "    query = [query_text]\n",
    "\n",
    "    # Vectorize the query string\n",
    "    query_embedding = model.encode(query)\n",
    "\n",
    "    # Run the query\n",
    "    # index_vals refers to the chunk_list index values\n",
    "    scores, index_vals = faiss_index.search(query_embedding, top_k)\n",
    "    \n",
    "    # Get the list of index vals\n",
    "    index_vals_list = index_vals[0]\n",
    "    \n",
    "    return index_vals_list\n",
    "    \n",
    "\n",
    "def run_rerank(index_vals_list, query_text):\n",
    "    \n",
    "    chunk_list = list(df_data['prepared_text'])\n",
    "\n",
    "    # Replace the chunk index values with the corresponding strings\n",
    "    pred_strings_list = [chunk_list[item] for item in index_vals_list]\n",
    "\n",
    "    # Format the input for the cross encoder\n",
    "    # The input to the cross_encoder is a list of lists\n",
    "    # [[query_text, pred_text1], [query_text, pred_text2], ...]\n",
    "\n",
    "    cross_input_list = []\n",
    "\n",
    "    for item in pred_strings_list:\n",
    "\n",
    "        new_list = [query_text, item]\n",
    "\n",
    "        cross_input_list.append(new_list)\n",
    "\n",
    "\n",
    "    # Put the pred text into a dataframe\n",
    "    df = pd.DataFrame(cross_input_list, columns=['query_text', 'pred_text'])\n",
    "\n",
    "    # Save the orginal index (i.e. df_data index values)\n",
    "    df['original_index'] = index_vals_list\n",
    "\n",
    "    # Now, score all retrieved passages using the cross_encoder\n",
    "    cross_scores = cross_encoder.predict(cross_input_list)\n",
    "\n",
    "    # Add the scores to the dataframe\n",
    "    df['cross_scores'] = cross_scores\n",
    "\n",
    "    # Sort the DataFrame in descending order based on the scores\n",
    "    df_sorted = df.sort_values(by='cross_scores', ascending=False)\n",
    "    \n",
    "    # Reset the index (*This was missed previously*)\n",
    "    df_sorted = df_sorted.reset_index(drop=True)\n",
    "\n",
    "    pred_list = []\n",
    "\n",
    "    for i in range(0,len(df_sorted)):\n",
    "\n",
    "        text = df_sorted.loc[i, 'pred_text']\n",
    "\n",
    "        # Get the arxiv id\n",
    "        # original_index refers to the index values in df_filtered\n",
    "        original_index = df_sorted.loc[i, 'original_index']\n",
    "        arxiv_id = df_data.loc[original_index, 'id']\n",
    "        cat_text = df_data.loc[original_index, 'cat_text']\n",
    "        title = df_data.loc[original_index, 'title']\n",
    "\n",
    "        # Crete the link to the research paper pdf\n",
    "        link_to_pdf = f'https://arxiv.org/pdf/{arxiv_id}'\n",
    "\n",
    "        item = {\n",
    "            'arxiv_id': arxiv_id,\n",
    "            'link_to_pdf': link_to_pdf,\n",
    "            'cat_text': cat_text,\n",
    "            'title': title,\n",
    "            'abstract': text\n",
    "        }\n",
    "\n",
    "        pred_list.append(item)\n",
    "\n",
    "    return pred_list\n",
    "\n",
    "\n",
    "def print_search_results(pred_list, num_results_to_print):\n",
    "    \n",
    "    for i in range(0,num_results_to_print):\n",
    "        \n",
    "        pred_dict = pred_list[i]\n",
    "        \n",
    "        link_to_pdf = pred_dict['link_to_pdf']\n",
    "        abstract = pred_dict['abstract']\n",
    "        cat_text = pred_dict['cat_text']\n",
    "        title = pred_dict['title']\n",
    "\n",
    "        print('Title:',title)\n",
    "        print('Categories:',cat_text)\n",
    "        print('Abstract:',abstract)\n",
    "        print('Link to pdf:',link_to_pdf)\n",
    "        print()\n",
    "    \n",
    "   \n",
    "def run_arxiv_search(query_text, num_results_to_print, top_k=5):\n",
    "    \n",
    "    # Run a faiss greedy search\n",
    "    pred_index_list = run_faiss_search(query_text, top_k)\n",
    "\n",
    "    # This returns a list of dicts with length equal to top_k\n",
    "    pred_list = run_rerank(pred_index_list, query_text)\n",
    "    \n",
    "    # Print the results\n",
    "    print_search_results(pred_list, num_results_to_print)"
   ]
  },
  {
   "cell_type": "code",
   "execution_count": 4,
   "metadata": {},
   "outputs": [
    {
     "data": {
      "text/plain": [
       "(2564718, 384)"
      ]
     },
     "execution_count": 4,
     "metadata": {},
     "output_type": "execute_result"
    }
   ],
   "source": [
    "# Load the compressed array\n",
    "embeddings = np.load(PATH_TO_EMBEDS)\n",
    "\n",
    "# Access the array by the name you specified ('my_array' in this case)\n",
    "embeddings = embeddings['array_data']\n",
    "\n",
    "embeddings.shape"
   ]
  },
  {
   "cell_type": "code",
   "execution_count": 5,
   "metadata": {},
   "outputs": [
    {
     "name": "stdout",
     "output_type": "stream",
     "text": [
      "(2564718, 6)\n"
     ]
    },
    {
     "name": "stderr",
     "output_type": "stream",
     "text": [
      "/var/folders/9w/bvj8jnnd4979ylmj01tbvy8w0000gn/T/ipykernel_5896/3627369456.py:3: DtypeWarning: Columns (0) have mixed types. Specify dtype option on import or set low_memory=False.\n",
      "  df_data = pd.read_csv(PATH_TO_DF, compression='gzip')\n"
     ]
    }
   ],
   "source": [
    "# Load the compressed DataFrame\n",
    "\n",
    "df_data = pd.read_csv(PATH_TO_DF, compression='gzip')\n",
    "\n",
    "print(df_data.shape)\n",
    "\n",
    "#df_data.head()"
   ]
  },
  {
   "cell_type": "code",
   "execution_count": 6,
   "metadata": {},
   "outputs": [
    {
     "data": {
      "text/plain": [
       "True"
      ]
     },
     "execution_count": 6,
     "metadata": {},
     "output_type": "execute_result"
    }
   ],
   "source": [
    "# Initialize FAISS\n",
    "\n",
    "import faiss\n",
    "\n",
    "embed_length = embeddings.shape[1]\n",
    "\n",
    "faiss_index = faiss.IndexFlatL2(embed_length)\n",
    "\n",
    "# Add the embeddings to the index\n",
    "faiss_index.add(embeddings)\n",
    "\n",
    "faiss_index.is_trained"
   ]
  },
  {
   "cell_type": "code",
   "execution_count": 7,
   "metadata": {},
   "outputs": [
    {
     "name": "stderr",
     "output_type": "stream",
     "text": [
      "/Library/Frameworks/Python.framework/Versions/3.12/lib/python3.12/site-packages/sentence_transformers/cross_encoder/CrossEncoder.py:13: TqdmWarning: IProgress not found. Please update jupyter and ipywidgets. See https://ipywidgets.readthedocs.io/en/stable/user_install.html\n",
      "  from tqdm.autonotebook import tqdm, trange\n"
     ]
    }
   ],
   "source": [
    "# Initialize sentence_transformers\n",
    "\n",
    "from sentence_transformers import SentenceTransformer\n",
    "\n",
    "model = SentenceTransformer(\"all-MiniLM-L6-v2\")"
   ]
  },
  {
   "cell_type": "code",
   "execution_count": 8,
   "metadata": {},
   "outputs": [],
   "source": [
    "# Initialize the cross_encoder for reranking\n",
    "\n",
    "from sentence_transformers import CrossEncoder\n",
    "\n",
    "# We use a cross-encoder, to re-rank the results list to improve the quality\n",
    "cross_encoder = CrossEncoder('cross-encoder/ms-marco-MiniLM-L-6-v2')"
   ]
  },
  {
   "cell_type": "code",
   "execution_count": null,
   "metadata": {},
   "outputs": [
    {
     "name": "stdout",
     "output_type": "stream",
     "text": [
      "Title: Responsible Facial Recognition and Beyond\n",
      "Categories: Computer Vision and Pattern Recognition, Computers and Society\n",
      "Abstract: Responsible Facial Recognition and Beyond {title} Facial recognition is changing the way we live in and interact with our society. Here we discuss the two sides of facial recognition, summarizing potential risks and current concerns. We introduce current policies and regulations in different countries. Very importantly, we point out that the risks and concerns are not only from facial recognition, but also realistically very similar to other biometric recognition technology, including but not limited to gait recognition, iris recognition, fingerprint recognition, voice recognition, etc. To create a responsible future, we discuss possible technological moves and efforts that should be made to keep facial recognition (and biometric recognition in general) developing for social good.\n",
      "Link to pdf: https://arxiv.org/pdf/1909.12935\n",
      "\n",
      "Title: Human Expression Recognition using Facial Shape Based Fourier   Descriptors Fusion\n",
      "Categories: Computer Vision and Pattern Recognition\n",
      "Abstract: Human Expression Recognition using Facial Shape Based Fourier   Descriptors Fusion {title} Dynamic facial expression recognition has many useful applications in social networks, multimedia content analysis, security systems and others. This challenging process must be done under recurrent problems of image illumination and low resolution which changes at partial occlusions. This paper aims to produce a new facial expression recognition method based on the changes in the facial muscles. The geometric features are used to specify the facial regions i.e., mouth, eyes, and nose. The generic Fourier shape descriptor in conjunction with elliptic Fourier shape descriptor is used as an attribute to represent different emotions under frequency spectrum features. Afterwards a multi-class support vector machine is applied for classification of seven human expression. The statistical analysis showed our approach obtained overall competent recognition using 5-fold cross validation with high accuracy on well-known facial expression dataset.\n",
      "Link to pdf: https://arxiv.org/pdf/2012.14097\n",
      "\n",
      "Title: Performance analysis of facial recognition: A critical review through   glass factor\n",
      "Categories: Computer Vision and Pattern Recognition, Machine Learning\n",
      "Abstract: Performance analysis of facial recognition: A critical review through   glass factor {title} COVID-19 pandemic and social distancing urge a reliable human face recognition system in different abnormal situations. However, there is no research which studies the influence of glass factor in facial recognition system. This paper provides a comprehensive review of glass factor. The study contains two steps: data collection and accuracy test. Data collection includes collecting human face images through different situations, such as clear glasses, glass with water and glass with mist. Based on the collected data, an existing state-of-the-art face detection and recognition system built upon MTCNN and Inception V1 deep nets is tested for further analysis. Experimental data supports that 1) the system is robust for classification when comparing real-time images and 2) it fails at determining if two images are of same person by comparing real-time disturbed image with the frontal ones.\n",
      "Link to pdf: https://arxiv.org/pdf/2104.01536\n",
      "\n",
      "Title: Emotion Recognition for Challenged People Facial Appearance in Social   using Neural Network\n",
      "Categories: Computer Vision and Pattern Recognition, Artificial Intelligence\n",
      "Abstract: Emotion Recognition for Challenged People Facial Appearance in Social   using Neural Network {title} Human communication is the vocal and non verbal signal to communicate with others. Human expression is a significant biometric object in picture and record databases of surveillance systems. Face appreciation has a serious role in biometric methods and is good-looking for plentiful applications, including visual scrutiny and security. Facial expressions are a form of nonverbal communication; recognizing them helps improve the human machine interaction. This paper proposes an idea for face and enlightenment invariant credit of facial expressions by the images. In order on, the person's face can be computed. Face expression is used in CNN classifier to categorize the acquired picture into different emotion categories. It is a deep, feed-forward artificial neural network. Outcome surpasses human presentation and shows poses alternate performance. Varying lighting conditions can influence the fitting process and reduce recognition precision. Results illustrate that dependable facial appearance credited with changing lighting conditions for separating reasonable facial terminology display emotions is an efficient representation of clean and assorted moving expressions. This process can also manage the proportions of dissimilar basic affecting expressions of those mixed jointly to produce sensible emotional facial expressions. Our system contains a pre-defined data set, which was residential by a statistics scientist and includes all pure and varied expressions. On average, a data set has achieved 92.4% exact validation of the expressions synthesized by our technique. These facial expressions are compared through the pre-defined data-position inside our system. If it recognizes the person in an abnormal condition, an alert will be passed to the nearby hospital/doctor seeing that a message.\n",
      "Link to pdf: https://arxiv.org/pdf/2305.06842\n",
      "\n",
      "Title: Facial Recognition: A cross-national Survey on Public Acceptance,   Privacy, and Discrimination\n",
      "Categories: Computers and Society, Computer Vision and Pattern Recognition, Machine Learning, Machine Learning\n",
      "Abstract: Facial Recognition: A cross-national Survey on Public Acceptance,   Privacy, and Discrimination {title} With rapid advances in machine learning (ML), more of this technology is being deployed into the real world interacting with us and our environment. One of the most widely applied application of ML is facial recognition as it is running on millions of devices. While being useful for some people, others perceive it as a threat when used by public authorities. This discrepancy and the lack of policy increases the uncertainty in the ML community about the future direction of facial recognition research and development. In this paper we present results from a cross-national survey about public acceptance, privacy, and discrimination of the use of facial recognition technology (FRT) in the public. This study provides insights about the opinion towards FRT from China, Germany, the United Kingdom (UK), and the United States (US), which can serve as input for policy makers and legal regulators.\n",
      "Link to pdf: https://arxiv.org/pdf/2008.07275\n",
      "\n",
      "Title: I Only Have Eyes for You: The Impact of Masks On Convolutional-Based   Facial Expression Recognition\n",
      "Categories: Computer Vision and Pattern Recognition, Neural and Evolutionary Computing\n",
      "Abstract: I Only Have Eyes for You: The Impact of Masks On Convolutional-Based   Facial Expression Recognition {title} The current COVID-19 pandemic has shown us that we are still facing unpredictable challenges in our society. The necessary constrain on social interactions affected heavily how we envision and prepare the future of social robots and artificial agents in general. Adapting current affective perception models towards constrained perception based on the hard separation between facial perception and affective understanding would help us to provide robust systems. In this paper, we perform an in-depth analysis of how recognizing affect from persons with masks differs from general facial expression perception. We evaluate how the recently proposed FaceChannel adapts towards recognizing facial expressions from persons with masks. In Our analysis, we evaluate different training and fine-tuning schemes to understand better the impact of masked facial expressions. We also perform specific feature-level visualization to demonstrate how the inherent capabilities of the FaceChannel to learn and combine facial features change when in a constrained social interaction scenario.\n",
      "Link to pdf: https://arxiv.org/pdf/2104.08353\n",
      "\n",
      "Title: Explainable Facial Expression Recognition for People with Intellectual   Disabilities\n",
      "Categories: Human-Computer Interaction\n",
      "Abstract: Explainable Facial Expression Recognition for People with Intellectual   Disabilities {title} Facial expression recognition plays an important role in human behaviour, communication, and interaction. Recent neural networks have demonstrated to perform well at its automatic recognition, with different explainability techniques available to make them more transparent. In this work, we propose a facial expression recognition study for people with intellectual disabilities that would be integrated into a social robot. We train two well-known neural networks with five databases of facial expressions and test them with two databases containing people with and without intellectual disabilities. Finally, we study in which regions the models focus to perceive a particular expression using two different explainability techniques: LIME and RISE, assessing the differences when used on images containing disabled and non-disabled people.\n",
      "Link to pdf: https://arxiv.org/pdf/2405.11482\n",
      "\n",
      "Title: Judging a Book by Its Cover: The Effect of Facial Perception on   Centrality in Social Networks\n",
      "Categories: Social and Information Networks\n",
      "Abstract: Judging a Book by Its Cover: The Effect of Facial Perception on   Centrality in Social Networks {title} Facial appearance matters in social networks. Individuals frequently make trait judgments from facial clues. Although these face-based impressions lack the evidence to determine validity, they are of vital importance, because they may relate to human network-based social behavior, such as seeking certain individuals for help, advice, dating, and cooperation, and thus they may relate to centrality in social networks. However, little to no work has investigated the apparent facial traits that influence network centrality, despite the large amount of research on attributions of the central position including personality and behavior. In this paper, we examine whether perceived traits based on facial appearance affect network centrality by exploring the initial stage of social network formation in a first-year college residential area. We took face photos of participants who are freshmen living in the same residential area, and we asked them to nominate community members linking to different networks. We then collected facial perception data by requiring other participants to rate facial images for three main attributions: dominance, trustworthiness, and attractiveness. Meanwhile, we proposed a framework to discover how facial appearance affects social networks. Our results revealed that perceived facial traits were correlated with the network centrality and that they were indicative to predict the centrality of people in different networks. Our findings provide psychological evidence regarding the interaction between faces and network centrality. Our findings also offer insights in to a combination of psychological and social network techniques, and they highlight the function of facial bias in cuing and signaling social traits. To the best of our knowledge, we are the first to explore the influence of facial perception on centrality in social networks.\n",
      "Link to pdf: https://arxiv.org/pdf/2008.06312\n",
      "\n",
      "Title: Survey on RGB, 3D, Thermal, and Multimodal Approaches for Facial   Expression Recognition: History, Trends, and Affect-related Applications\n",
      "Categories: Computer Vision and Pattern Recognition\n",
      "Abstract: Survey on RGB, 3D, Thermal, and Multimodal Approaches for Facial   Expression Recognition: History, Trends, and Affect-related Applications {title} Facial expressions are an important way through which humans interact socially. Building a system capable of automatically recognizing facial expressions from images and video has been an intense field of study in recent years. Interpreting such expressions remains challenging and much research is needed about the way they relate to human affect. This paper presents a general overview of automatic RGB, 3D, thermal and multimodal facial expression analysis. We define a new taxonomy for the field, encompassing all steps from face detection to facial expression recognition, and describe and classify the state of the art methods accordingly. We also present the important datasets and the bench-marking of most influential methods. We conclude with a general discussion about trends, important questions and future lines of research.\n",
      "Link to pdf: https://arxiv.org/pdf/1606.03237\n",
      "\n",
      "Title: Assessing the Efficacy of Deep Learning Approaches for Facial Expression   Recognition in Individuals with Intellectual Disabilities\n",
      "Categories: Computer Vision and Pattern Recognition\n",
      "Abstract: Assessing the Efficacy of Deep Learning Approaches for Facial Expression   Recognition in Individuals with Intellectual Disabilities {title} Facial expression recognition has gained significance as a means of imparting social robots with the capacity to discern the emotional states of users. The use of social robotics includes a variety of settings, including homes, nursing homes or daycare centers, serving to a wide range of users. Remarkable performance has been achieved by deep learning approaches, however, its direct use for recognizing facial expressions in individuals with intellectual disabilities has not been yet studied in the literature, to the best of our knowledge. To address this objective, we train a set of 12 convolutional neural networks in different approaches, including an ensemble of datasets without individuals with intellectual disabilities and a dataset featuring such individuals. Our examination of the outcomes, both the performance and the important image regions for the models, reveals significant distinctions in facial expressions between individuals with and without intellectual disabilities, as well as among individuals with intellectual disabilities. Remarkably, our findings show the need of facial expression recognition within this population through tailored user-specific training methodologies, which enable the models to effectively address the unique expressions of each user.\n",
      "Link to pdf: https://arxiv.org/pdf/2401.11877\n",
      "\n",
      "Title: Face Recognition Techniques: A Survey\n",
      "Categories: Computer Vision and Pattern Recognition\n",
      "Abstract: Face Recognition Techniques: A Survey {title} Nowadays research has expanded to extracting auxiliary information from various biometric techniques like fingerprints, face, iris, palm and voice . This information contains some major features like gender, age, beard, mustache, scars, height, hair, skin color, glasses, weight, facial marks and tattoos. All this information contributes strongly to identification of human. The major challenges that come across face recognition are to find age & gender of the person. This paper contributes a survey of various face recognition techniques for finding the age and gender. The existing techniques are discussed based on their performances. This paper also provides future directions for further research.\n",
      "Link to pdf: https://arxiv.org/pdf/1803.07288\n",
      "\n",
      "Title: A Survey of the Trends in Facial and Expression Recognition Databases   and Methods\n",
      "Categories: Computer Vision and Pattern Recognition\n",
      "Abstract: A Survey of the Trends in Facial and Expression Recognition Databases   and Methods {title} Automated facial identification and facial expression recognition have been topics of active research over the past few decades. Facial and expression recognition find applications in human-computer interfaces, subject tracking, real-time security surveillance systems and social networking. Several holistic and geometric methods have been developed to identify faces and expressions using public and local facial image databases. In this work we present the evolution in facial image data sets and the methodologies for facial identification and recognition of expressions such as anger, sadness, happiness, disgust, fear and surprise. We observe that most of the earlier methods for facial and expression recognition aimed at improving the recognition rates for facial feature-based methods using static images. However, the recent methodologies have shifted focus towards robust implementation of facial/expression recognition from large image databases that vary with space (gathered from the internet) and time (video recordings). The evolution trends in databases and methodologies for facial and expression recognition can be useful for assessing the next-generation topics that may have applications in security systems or personal identification systems that involve \"Quantitative face\" assessments.\n",
      "Link to pdf: https://arxiv.org/pdf/1511.02407\n",
      "\n",
      "Title: Does the Goal Matter? Emotion Recognition Tasks Can Change the Social   Value of Facial Mimicry towards Artificial Agents\n",
      "Categories: Human-Computer Interaction, Robotics\n",
      "Abstract: Does the Goal Matter? Emotion Recognition Tasks Can Change the Social   Value of Facial Mimicry towards Artificial Agents {title} In this paper, we present a study aimed at understanding whether the embodiment and humanlikeness of an artificial agent can affect people's spontaneous and instructed mimicry of its facial expressions. The study followed a mixed experimental design and revolved around an emotion recognition task. Participants were randomly assigned to one level of humanlikeness (between-subject variable: humanlike, characterlike, or morph facial texture of the artificial agents) and observed the facial expressions displayed by a human (control) and three artificial agents differing in embodiment (within-subject variable: video-recorded robot, physical robot, and virtual agent). To study both spontaneous and instructed facial mimicry, we divided the experimental sessions into two phases. In the first phase, we asked participants to observe and recognize the emotions displayed by the agents. In the second phase, we asked them to look at the agents' facial expressions, replicate their dynamics as closely as possible, and then identify the observed emotions. In both cases, we assessed participants' facial expressions with an automated Action Unit (AU) intensity detector. Contrary to our hypotheses, our results disclose that the agent that was perceived as the least uncanny, and most anthropomorphic, likable, and co-present, was the one spontaneously mimicked the least. Moreover, they show that instructed facial mimicry negatively predicts spontaneous facial mimicry. Further exploratory analyses revealed that spontaneous facial mimicry appeared when participants were less certain of the emotion they recognized. Hence, we postulate that an emotion recognition goal can flip the social value of facial mimicry as it transforms a likable artificial agent into a distractor.\n",
      "Link to pdf: https://arxiv.org/pdf/2105.02098\n",
      "\n",
      "Title: Understanding bias in facial recognition technologies\n",
      "Categories: Computers and Society, Computer Vision and Pattern Recognition, Databases\n",
      "Abstract: Understanding bias in facial recognition technologies {title} Over the past couple of years, the growing debate around automated facial recognition has reached a boiling point. As developers have continued to swiftly expand the scope of these kinds of technologies into an almost unbounded range of applications, an increasingly strident chorus of critical voices has sounded concerns about the injurious effects of the proliferation of such systems. Opponents argue that the irresponsible design and use of facial detection and recognition technologies (FDRTs) threatens to violate civil liberties, infringe on basic human rights and further entrench structural racism and systemic marginalisation. They also caution that the gradual creep of face surveillance infrastructures into every domain of lived experience may eventually eradicate the modern democratic forms of life that have long provided cherished means to individual flourishing, social solidarity and human self-creation. Defenders, by contrast, emphasise the gains in public safety, security and efficiency that digitally streamlined capacities for facial identification, identity verification and trait characterisation may bring. In this explainer, I focus on one central aspect of this debate: the role that dynamics of bias and discrimination play in the development and deployment of FDRTs. I examine how historical patterns of discrimination have made inroads into the design and implementation of FDRTs from their very earliest moments. And, I explain the ways in which the use of biased FDRTs can lead distributional and recognitional injustices. The explainer concludes with an exploration of broader ethical questions around the potential proliferation of pervasive face-based surveillance infrastructures and makes some recommendations for cultivating more responsible approaches to the development and governance of these technologies.\n",
      "Link to pdf: https://arxiv.org/pdf/2010.07023\n",
      "\n",
      "Title: Accurately Classifying Out-Of-Distribution Data in Facial Recognition\n",
      "Categories: Computer Vision and Pattern Recognition, Computers and Society, Machine Learning\n",
      "Abstract: Accurately Classifying Out-Of-Distribution Data in Facial Recognition {title} Standard classification theory assumes that the distribution of images in the test and training sets are identical. Unfortunately, real-life scenarios typically feature unseen data (''out-of-distribution data\") which is different from data in the training distribution(''in-distribution\"). This issue is most prevalent in social justice problems where data from under-represented groups may appear in the test data without representing an equal proportion of the training data. This may result in a model returning confidently wrong decisions and predictions. We are interested in the following question: Can the performance of a neural network improve on facial images of out-of-distribution data when it is trained simultaneously on multiple datasets of in-distribution data? We approach this problem by incorporating the Outlier Exposure model and investigate how the model's performance changes when other datasets of facial images were implemented. We observe that the accuracy and other metrics of the model can be increased by applying Outlier Exposure, incorporating a trainable weight parameter to increase the machine's emphasis on outlier images, and by re-weighting the importance of different class labels. We also experimented with whether sorting the images and determining outliers via image features would have more of an effect on the metrics than sorting by average pixel value, and found no conclusive results. Our goal was to make models not only more accurate but also more fair by scanning a more expanded range of images. We also tested the datasets in reverse order to see whether a more fair dataset with balanced features has an effect on the model's accuracy. Utilizing Python and the Pytorch package, we found that models that utilizing outlier exposure could make models more fair.\n",
      "Link to pdf: https://arxiv.org/pdf/2404.03876\n",
      "\n",
      "Title: SoK: Anti-Facial Recognition Technology\n",
      "Categories: Cryptography and Security, Computer Vision and Pattern Recognition, Machine Learning\n",
      "Abstract: SoK: Anti-Facial Recognition Technology {title} The rapid adoption of facial recognition (FR) technology by both government and commercial entities in recent years has raised concerns about civil liberties and privacy. In response, a broad suite of so-called \"anti-facial recognition\" (AFR) tools has been developed to help users avoid unwanted facial recognition. The set of AFR tools proposed in the last few years is wide-ranging and rapidly evolving, necessitating a step back to consider the broader design space of AFR systems and long-term challenges. This paper aims to fill that gap and provides the first comprehensive analysis of the AFR research landscape. Using the operational stages of FR systems as a starting point, we create a systematic framework for analyzing the benefits and tradeoffs of different AFR approaches. We then consider both technical and social challenges facing AFR tools and propose directions for future research in this field.\n",
      "Link to pdf: https://arxiv.org/pdf/2112.04558\n",
      "\n",
      "Title: Facial Expressions recognition Based on Principal Component Analysis   (PCA)\n",
      "Categories: Computer Vision and Pattern Recognition\n",
      "Abstract: Facial Expressions recognition Based on Principal Component Analysis   (PCA) {title} The facial expression recognition is an ocular task that can be performed without human discomfort, is really a speedily growing on the computer research field. There are many applications and programs uses facial expression to evaluate human character, judgment, feelings, and viewpoint. The process of recognizing facial expression is a hard task due to the several circumstances such as facial occlusions, face shape, illumination, face colors, and etc. This paper present a PCA methodology to distinguish expressions of faces under different circumstances and identifying it. Relies on Eigen faces technique using standard Data base images. So as to overcome the problem of difficulty to computers to identify the features and expressions of persons.\n",
      "Link to pdf: https://arxiv.org/pdf/1506.01939\n",
      "\n",
      "Title: Expression Analysis Based on Face Regions in Read-world Conditions\n",
      "Categories: Computer Vision and Pattern Recognition\n",
      "Abstract: Expression Analysis Based on Face Regions in Read-world Conditions {title} Facial emotion recognition is an essential and important aspect of the field of human-machine interaction. Past research on facial emotion recognition focuses on the laboratory environment. However, it faces many challenges in real-world conditions, i.e., illumination changes, large pose variations and partial or full occlusions. Those challenges lead to different face areas with different degrees of sharpness and completeness. Inspired by this fact, we focus on the authenticity of predictions generated by different <emotion, region> pairs. For example, if only the mouth areas are available and the emotion classifier predicts happiness, then there is a question of how to judge the authenticity of predictions. This problem can be converted into the contribution of different face areas to different emotions. In this paper, we divide the whole face into six areas: nose areas, mouth areas, eyes areas, nose to mouth areas, nose to eyes areas and mouth to eyes areas. To obtain more convincing results, our experiments are conducted on three different databases: facial expression recognition + ( FER+), real-world affective faces database (RAF-DB) and expression in-the-wild (ExpW) dataset. Through analysis of the classification accuracy, the confusion matrix and the class activation map (CAM), we can establish convincing results. To sum up, the contributions of this paper lie in two areas: 1) We visualize concerned areas of human faces in emotion recognition; 2) We analyze the contribution of different face areas to different emotions in real-world conditions through experimental analysis. Our findings can be combined with findings in psychology to promote the understanding of emotional expressions.\n",
      "Link to pdf: https://arxiv.org/pdf/1911.05188\n",
      "\n",
      "Title: Toward Digitalization: A Secure Approach to Find a Missing Person Using   Facial Recognition Technology\n",
      "Categories: Computer Vision and Pattern Recognition, Computers and Society, Machine Learning\n",
      "Abstract: Toward Digitalization: A Secure Approach to Find a Missing Person Using   Facial Recognition Technology {title} Facial Recognition is a technique, based on machine learning technology that can recognize a human being analyzing his facial profile, and is applied in solving various types of realworld problems nowadays. In this paper, a common real-world problem, finding a missing person has been solved in a secure and effective way with the help of facial recognition technology. Although there exist a few works on solving the problem, the proposed work is unique with respect to its security, design, and feasibility. Impeding intruders in participating in the processes and giving importance to both finders and family members of a missing person are two of the major features of this work. The proofs of the works of our system in finding a missing person have been described in the result section of the paper. The advantages that our system provides over the other existing systems can be realized from the comparisons, described in the result summary section of the paper. The work is capable of providing a worthy solution to find a missing person on the digital platform.\n",
      "Link to pdf: https://arxiv.org/pdf/2405.16683\n",
      "\n",
      "Title: Face Expression Recognition and Analysis: The State of the Art\n",
      "Categories: Computer Vision and Pattern Recognition\n",
      "Abstract: Face Expression Recognition and Analysis: The State of the Art {title} The automatic recognition of facial expressions has been an active research topic since the early nineties. There have been several advances in the past few years in terms of face detection and tracking, feature extraction mechanisms and the techniques used for expression classification. This paper surveys some of the published work since 2001 till date. The paper presents a time-line view of the advances made in this field, the applications of automatic face expression recognizers, the characteristics of an ideal system, the databases that have been used and the advances made in terms of their standardization and a detailed summary of the state of the art. The paper also discusses facial parameterization using FACS Action Units (AUs) and MPEG-4 Facial Animation Parameters (FAPs) and the recent advances in face detection, tracking and feature extraction methods. Notes have also been presented on emotions, expressions and facial features, discussion on the six prototypic expressions and the recent studies on expression classifiers. The paper ends with a note on the challenges and the future work. This paper has been written in a tutorial style with the intention of helping students and researchers who are new to this field.\n",
      "Link to pdf: https://arxiv.org/pdf/1203.6722\n",
      "\n"
     ]
    }
   ],
   "source": [
    "# *** PLEASE ENTER YOUR SEARCH QUERY HERE ***\n",
    "\n",
    "query_text = \"\"\"\n",
    "\n",
    "I want to read some papers about facial recognition and its social issue\n",
    "\n",
    "\"\"\"\n",
    "\n",
    "\n",
    "# RUN THE SEARCH\n",
    "num_results_to_print = 5 # top_k = 300\n",
    "top_k = 10\n",
    "run_arxiv_search(query_text, num_results_to_print, top_k)"
   ]
  },
  {
   "cell_type": "code",
   "execution_count": null,
   "metadata": {},
   "outputs": [],
   "source": [
    "from nltk.translate.bleu_score import sentence_bleu, SmoothingFunction\n"
   ]
  },
  {
   "cell_type": "code",
   "execution_count": null,
   "metadata": {},
   "outputs": [],
   "source": [
    "def calculate_bleu(candidate_abstract, reference_abstract):\n",
    "    # Tokenize the abstracts into words\n",
    "    candidate_tokens = candidate_abstract.split()\n",
    "    reference_tokens = reference_abstract.split()\n",
    "\n",
    "    # Use smoothing for better scores with short sequences\n",
    "    smooth_fn = SmoothingFunction().method1\n",
    "\n",
    "    # Compute BLEU score\n",
    "    bleu_score = sentence_bleu([reference_tokens], candidate_tokens, smoothing_function=smooth_fn)\n",
    "    return bleu_score\n"
   ]
  },
  {
   "cell_type": "code",
   "execution_count": null,
   "metadata": {},
   "outputs": [],
   "source": [
    "def evaluate_bleu(pred_list, references):\n",
    "    bleu_scores = []\n",
    "    for pred, ref in zip(pred_list, references):\n",
    "        candidate_abstract = pred['abstract']\n",
    "        reference_abstract = ref  # Replace with the actual reference abstract\n",
    "        bleu = calculate_bleu(candidate_abstract, reference_abstract)\n",
    "        bleu_scores.append(bleu)\n",
    "    return bleu_scores\n"
   ]
  }
 ],
 "metadata": {
  "kernelspec": {
   "display_name": "Python 3",
   "language": "python",
   "name": "python3"
  },
  "language_info": {
   "codemirror_mode": {
    "name": "ipython",
    "version": 3
   },
   "file_extension": ".py",
   "mimetype": "text/x-python",
   "name": "python",
   "nbconvert_exporter": "python",
   "pygments_lexer": "ipython3",
   "version": "3.12.6"
  }
 },
 "nbformat": 4,
 "nbformat_minor": 2
}
